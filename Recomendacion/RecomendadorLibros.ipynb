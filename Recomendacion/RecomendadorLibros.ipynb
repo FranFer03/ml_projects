{
 "cells": [
  {
   "cell_type": "code",
   "execution_count": 20,
   "id": "0c101b55",
   "metadata": {},
   "outputs": [],
   "source": [
    "import pandas as pd"
   ]
  },
  {
   "cell_type": "code",
   "execution_count": 21,
   "id": "a4e47a56",
   "metadata": {},
   "outputs": [],
   "source": [
    "#!git clone https://github.com/karen-pal/borges"
   ]
  },
  {
   "cell_type": "code",
   "execution_count": 22,
   "id": "0680c558",
   "metadata": {},
   "outputs": [
    {
     "name": "stdout",
     "output_type": "stream",
     "text": [
      "c:\\GitHub\\data_science\\Recomendacion\n"
     ]
    }
   ],
   "source": [
    "import os\n",
    "print(os.getcwd())"
   ]
  },
  {
   "cell_type": "code",
   "execution_count": 23,
   "id": "4bbb7f18",
   "metadata": {},
   "outputs": [
    {
     "name": "stdout",
     "output_type": "stream",
     "text": [
      "Shape total del DataFrame final: (719, 3)\n"
     ]
    }
   ],
   "source": [
    "from pathlib import Path\n",
    "import pandas as pd\n",
    "import pickle\n",
    "\n",
    "# Ruta corregida: se usa raw string r'' para evitar errores con '\\'\n",
    "pkls = list(Path(r'./datasets_pkl').glob('*_texts.pkl'))\n",
    "df = pd.DataFrame()\n",
    "\n",
    "for pkl in pkls:\n",
    "    with open(pkl, 'rb') as inp:\n",
    "        df_ = pickle.load(inp)\n",
    "        if isinstance(df_, pd.DataFrame):\n",
    "            if not df_.empty:\n",
    "                df = pd.concat([df, df_], ignore_index=True)\n",
    "            else:\n",
    "                print(f\"Este DataFrame está vacío: {pkl}\")\n",
    "        else:\n",
    "            print(f\"¡Ojo! Esto no es un DataFrame: {pkl}\")\n",
    "\n",
    "print(\"Shape total del DataFrame final:\", df.shape)"
   ]
  },
  {
   "cell_type": "code",
   "execution_count": 24,
   "id": "e67fa292",
   "metadata": {},
   "outputs": [
    {
     "data": {
      "text/html": [
       "<div>\n",
       "<style scoped>\n",
       "    .dataframe tbody tr th:only-of-type {\n",
       "        vertical-align: middle;\n",
       "    }\n",
       "\n",
       "    .dataframe tbody tr th {\n",
       "        vertical-align: top;\n",
       "    }\n",
       "\n",
       "    .dataframe thead th {\n",
       "        text-align: right;\n",
       "    }\n",
       "</style>\n",
       "<table border=\"1\" class=\"dataframe\">\n",
       "  <thead>\n",
       "    <tr style=\"text-align: right;\">\n",
       "      <th></th>\n",
       "      <th>link</th>\n",
       "      <th>text_metadata</th>\n",
       "      <th>text</th>\n",
       "    </tr>\n",
       "  </thead>\n",
       "  <tbody>\n",
       "    <tr>\n",
       "      <th>92</th>\n",
       "      <td>https://ciudadseva.com/texto/el-discipulo/</td>\n",
       "      <td>{'title': 'El discípulo', 'metadata': '[Cuento...</td>\n",
       "      <td>De raso negro, bordeada de armiño y con grueso...</td>\n",
       "    </tr>\n",
       "    <tr>\n",
       "      <th>694</th>\n",
       "      <td>https://ciudadseva.com/texto/la-sombra-vidales/</td>\n",
       "      <td>{'title': 'La sombra', 'metadata': '[Minicuent...</td>\n",
       "      <td>Yo quería estar solo. Subí las escaleras que c...</td>\n",
       "    </tr>\n",
       "  </tbody>\n",
       "</table>\n",
       "</div>"
      ],
      "text/plain": [
       "                                                link  \\\n",
       "92        https://ciudadseva.com/texto/el-discipulo/   \n",
       "694  https://ciudadseva.com/texto/la-sombra-vidales/   \n",
       "\n",
       "                                         text_metadata  \\\n",
       "92   {'title': 'El discípulo', 'metadata': '[Cuento...   \n",
       "694  {'title': 'La sombra', 'metadata': '[Minicuent...   \n",
       "\n",
       "                                                  text  \n",
       "92   De raso negro, bordeada de armiño y con grueso...  \n",
       "694  Yo quería estar solo. Subí las escaleras que c...  "
      ]
     },
     "execution_count": 24,
     "metadata": {},
     "output_type": "execute_result"
    }
   ],
   "source": [
    "df.sample(2)"
   ]
  },
  {
   "cell_type": "code",
   "execution_count": 25,
   "id": "157acdfb",
   "metadata": {},
   "outputs": [
    {
     "data": {
      "text/html": [
       "<div>\n",
       "<style scoped>\n",
       "    .dataframe tbody tr th:only-of-type {\n",
       "        vertical-align: middle;\n",
       "    }\n",
       "\n",
       "    .dataframe tbody tr th {\n",
       "        vertical-align: top;\n",
       "    }\n",
       "\n",
       "    .dataframe thead th {\n",
       "        text-align: right;\n",
       "    }\n",
       "</style>\n",
       "<table border=\"1\" class=\"dataframe\">\n",
       "  <thead>\n",
       "    <tr style=\"text-align: right;\">\n",
       "      <th></th>\n",
       "      <th>link</th>\n",
       "      <th>text_metadata</th>\n",
       "      <th>text</th>\n",
       "      <th>title</th>\n",
       "      <th>author</th>\n",
       "    </tr>\n",
       "  </thead>\n",
       "  <tbody>\n",
       "    <tr>\n",
       "      <th>462</th>\n",
       "      <td>https://ciudadseva.com/texto/una-tarde-plena/</td>\n",
       "      <td>{'title': 'Una tarde plena', 'metadata': '[Cue...</td>\n",
       "      <td>El saguino¹ es tan pequeño como un ratón, y de...</td>\n",
       "      <td>Una tarde plena</td>\n",
       "      <td>Clarice Lispector</td>\n",
       "    </tr>\n",
       "    <tr>\n",
       "      <th>221</th>\n",
       "      <td>https://ciudadseva.com/texto/el-palacio/</td>\n",
       "      <td>{'title': 'El Palacio', 'metadata': '[Minicuen...</td>\n",
       "      <td>El Palacio no es infinito. Los muros, los terr...</td>\n",
       "      <td>El Palacio</td>\n",
       "      <td>Jorge Luis Borges</td>\n",
       "    </tr>\n",
       "  </tbody>\n",
       "</table>\n",
       "</div>"
      ],
      "text/plain": [
       "                                              link  \\\n",
       "462  https://ciudadseva.com/texto/una-tarde-plena/   \n",
       "221       https://ciudadseva.com/texto/el-palacio/   \n",
       "\n",
       "                                         text_metadata  \\\n",
       "462  {'title': 'Una tarde plena', 'metadata': '[Cue...   \n",
       "221  {'title': 'El Palacio', 'metadata': '[Minicuen...   \n",
       "\n",
       "                                                  text            title  \\\n",
       "462  El saguino¹ es tan pequeño como un ratón, y de...  Una tarde plena   \n",
       "221  El Palacio no es infinito. Los muros, los terr...       El Palacio   \n",
       "\n",
       "                author  \n",
       "462  Clarice Lispector  \n",
       "221  Jorge Luis Borges  "
      ]
     },
     "execution_count": 25,
     "metadata": {},
     "output_type": "execute_result"
    }
   ],
   "source": [
    "# separamos de la metadata el título y autor en sus propias columnas\n",
    "df['title'] = df['text_metadata'].apply(lambda x: x['title'])\n",
    "df['author'] = df['text_metadata'].apply(lambda x: x['author'])\n",
    "df.sample(2)"
   ]
  },
  {
   "cell_type": "code",
   "execution_count": 27,
   "id": "c73c3f93",
   "metadata": {},
   "outputs": [
    {
     "data": {
      "text/plain": [
       "author\n",
       "Jorge Luis Borges             60\n",
       "Julio Cortázar                55\n",
       "Baldomero Lillo               50\n",
       "Juan José Arreola             45\n",
       "Augusto Monterroso            45\n",
       "Alfonso Reyes                 37\n",
       "Enrique Anderson Imbert       36\n",
       "Mario Benedetti               33\n",
       "Julio Ramón Ribeyro           27\n",
       "Roberto Arlt                  25\n",
       "Clarice Lispector             25\n",
       "Julio Torri                   23\n",
       "Felisberto Hernández          15\n",
       "Luis Vidales                  14\n",
       "Rubén Darío                   13\n",
       "Adolfo Bioy Casares           13\n",
       "Álvaro Mutis                  11\n",
       "Juan Rodolfo Wilcock          10\n",
       "Juan Rulfo                    10\n",
       "Edmundo Valadés               10\n",
       "Salarrué                       9\n",
       "Elena Garro                    9\n",
       "Manuel A. Alonso               9\n",
       "Eduardo Gudiño Kieffer         8\n",
       "Alejo Carpentier               8\n",
       "Juan Bosch                     8\n",
       "Virgilio Díaz Grullón          7\n",
       "Andrés Rivera                  7\n",
       "Silvina Ocampo                 7\n",
       "Rodolfo Walsh                  6\n",
       "Ricardo Güiraldes              6\n",
       "Pablo Palacio                  5\n",
       "José Donoso                    5\n",
       "Manuel Romero de Terreros      5\n",
       "Gregorio López y Fuentes       4\n",
       "[Cuento - Texto completo.]     4\n",
       "Julio Garmendia                4\n",
       "María Luisa Bombal             3\n",
       "José María Arguedas            3\n",
       "Inés Arredondo                 3\n",
       "Rubén Bareiro Saguier          3\n",
       "Macedonio Fernández            3\n",
       "Virgilio Piñera                3\n",
       "José Lezama Lima               3\n",
       "Rómulo Gallegos                3\n",
       "Vicente Huidobro               3\n",
       "Sergio Pitol                   3\n",
       "Octavio Paz                    3\n",
       "Amparo Dávila                  3\n",
       "José Edwards                   3\n",
       "Leonora Carrington             2\n",
       "Humberto Arenal                2\n",
       "Santiago Dabove                2\n",
       "Teresa de la Parra             2\n",
       "Ricardo Jaimes Freyre          1\n",
       "Esteban Echeverría             1\n",
       "Carmen Lyra                    1\n",
       "Manuel González Zeledón        1\n",
       "Name: count, dtype: int64"
      ]
     },
     "execution_count": 27,
     "metadata": {},
     "output_type": "execute_result"
    }
   ],
   "source": [
    "# vemos los autores disponibloes\n",
    "df['author'].value_counts()"
   ]
  },
  {
   "cell_type": "code",
   "execution_count": 28,
   "id": "9793d2e6",
   "metadata": {},
   "outputs": [
    {
     "data": {
      "text/plain": [
       "(693, 5)"
      ]
     },
     "execution_count": 28,
     "metadata": {},
     "output_type": "execute_result"
    }
   ],
   "source": [
    "# quitamos duplicados y reiniciamos el índice\n",
    "df = df.drop_duplicates(subset=[c for c in df.columns if c != 'text_metadata'])\n",
    "df = df.reset_index(drop=True)\n",
    "df.shape"
   ]
  },
  {
   "cell_type": "code",
   "execution_count": 29,
   "id": "ba4f4c3e",
   "metadata": {},
   "outputs": [],
   "source": [
    "from sklearn.feature_extraction.text import TfidfVectorizer, CountVectorizer\n",
    "from sklearn.metrics.pairwise import linear_kernel\n",
    "from pprint import pprint"
   ]
  },
  {
   "cell_type": "code",
   "execution_count": 30,
   "id": "d5c97511",
   "metadata": {},
   "outputs": [
    {
     "name": "stderr",
     "output_type": "stream",
     "text": [
      "[nltk_data] Downloading package stopwords to\n",
      "[nltk_data]     C:\\Users\\franf\\AppData\\Roaming\\nltk_data...\n",
      "[nltk_data]   Unzipping corpora\\stopwords.zip.\n"
     ]
    }
   ],
   "source": [
    "import nltk\n",
    "from nltk.corpus import stopwords\n",
    "nltk.download('stopwords')\n",
    "\n",
    "stop = list(stopwords.words('spanish'))\n",
    "# eliminamos las \"stop words\", palabras comunes no informativas\n",
    "tf = TfidfVectorizer(stop_words=stop)"
   ]
  },
  {
   "cell_type": "code",
   "execution_count": 35,
   "id": "aff1c95c",
   "metadata": {},
   "outputs": [
    {
     "data": {
      "text/html": [
       "<div>\n",
       "<style scoped>\n",
       "    .dataframe tbody tr th:only-of-type {\n",
       "        vertical-align: middle;\n",
       "    }\n",
       "\n",
       "    .dataframe tbody tr th {\n",
       "        vertical-align: top;\n",
       "    }\n",
       "\n",
       "    .dataframe thead th {\n",
       "        text-align: right;\n",
       "    }\n",
       "</style>\n",
       "<table border=\"1\" class=\"dataframe\">\n",
       "  <thead>\n",
       "    <tr style=\"text-align: right;\">\n",
       "      <th></th>\n",
       "      <th>link</th>\n",
       "      <th>text_metadata</th>\n",
       "      <th>text</th>\n",
       "      <th>title</th>\n",
       "      <th>author</th>\n",
       "    </tr>\n",
       "  </thead>\n",
       "  <tbody>\n",
       "    <tr>\n",
       "      <th>0</th>\n",
       "      <td>https://ciudadseva.com/texto/1833-1883/</td>\n",
       "      <td>{'title': '1833-1883', 'metadata': '[Crónica -...</td>\n",
       "      <td>¿Perdemos o ganamos? Cuando hago la pregunta y...</td>\n",
       "      <td>1833-1883</td>\n",
       "      <td>Manuel A. Alonso</td>\n",
       "    </tr>\n",
       "    <tr>\n",
       "      <th>1</th>\n",
       "      <td>https://ciudadseva.com/texto/agapito-avellaneda/</td>\n",
       "      <td>{'title': 'Agapito Avellaneda', 'metadata': '[...</td>\n",
       "      <td>I Conocí hace mucho tiempo a don Jaime Rocafor...</td>\n",
       "      <td>Agapito Avellaneda</td>\n",
       "      <td>Manuel A. Alonso</td>\n",
       "    </tr>\n",
       "    <tr>\n",
       "      <th>2</th>\n",
       "      <td>https://ciudadseva.com/texto/el-jibaro-en-la-c...</td>\n",
       "      <td>{'title': 'El jíbaro en la capital', 'metadata...</td>\n",
       "      <td>Don José de los Reyes Pisafirme es uno de mis ...</td>\n",
       "      <td>El jíbaro en la capital</td>\n",
       "      <td>Manuel A. Alonso</td>\n",
       "    </tr>\n",
       "    <tr>\n",
       "      <th>3</th>\n",
       "      <td>https://ciudadseva.com/texto/el-pajaro-malo/</td>\n",
       "      <td>{'title': 'El pájaro malo', 'metadata': '[Cuen...</td>\n",
       "      <td>Si el lector ha hecho alguna vez el camino de ...</td>\n",
       "      <td>El pájaro malo</td>\n",
       "      <td>Manuel A. Alonso</td>\n",
       "    </tr>\n",
       "    <tr>\n",
       "      <th>4</th>\n",
       "      <td>https://ciudadseva.com/texto/el-sueno-de-mi-co...</td>\n",
       "      <td>{'title': 'El sueño de mi compadre', 'metadata...</td>\n",
       "      <td>Como no podía menos de suceder en la tierra cl...</td>\n",
       "      <td>El sueño de mi compadre</td>\n",
       "      <td>Manuel A. Alonso</td>\n",
       "    </tr>\n",
       "    <tr>\n",
       "      <th>5</th>\n",
       "      <td>https://ciudadseva.com/texto/la-gallera/</td>\n",
       "      <td>{'title': 'La gallera', 'metadata': '[Crónica ...</td>\n",
       "      <td>Puede pasar un pueblo de la isla de Puerto Ric...</td>\n",
       "      <td>La gallera</td>\n",
       "      <td>Manuel A. Alonso</td>\n",
       "    </tr>\n",
       "    <tr>\n",
       "      <th>6</th>\n",
       "      <td>https://ciudadseva.com/texto/la-linterna-magica/</td>\n",
       "      <td>{'title': 'La linterna mágica', 'metadata': '[...</td>\n",
       "      <td>Una de las cosas que distinguen mi carácter, y...</td>\n",
       "      <td>La linterna mágica</td>\n",
       "      <td>Manuel A. Alonso</td>\n",
       "    </tr>\n",
       "    <tr>\n",
       "      <th>7</th>\n",
       "      <td>https://ciudadseva.com/texto/la-negrita-y-la-v...</td>\n",
       "      <td>{'title': 'La negrita y la vaquita', 'metadata...</td>\n",
       "      <td>Era una mañana de cierto mes y año que corría ...</td>\n",
       "      <td>La negrita y la vaquita</td>\n",
       "      <td>Manuel A. Alonso</td>\n",
       "    </tr>\n",
       "    <tr>\n",
       "      <th>8</th>\n",
       "      <td>https://ciudadseva.com/texto/perico-paciencia/</td>\n",
       "      <td>{'title': 'Perico Paciencia', 'metadata': '[Cu...</td>\n",
       "      <td>Tratábase de celebrar la fiesta del santo patr...</td>\n",
       "      <td>Perico Paciencia</td>\n",
       "      <td>Manuel A. Alonso</td>\n",
       "    </tr>\n",
       "    <tr>\n",
       "      <th>9</th>\n",
       "      <td>https://ciudadseva.com/texto/alas/</td>\n",
       "      <td>{'title': 'Alas', 'metadata': '[Minicuento - T...</td>\n",
       "      <td>Yo ejercía entonces la medicina en Humahuaca. ...</td>\n",
       "      <td>Alas</td>\n",
       "      <td>Enrique Anderson Imbert</td>\n",
       "    </tr>\n",
       "  </tbody>\n",
       "</table>\n",
       "</div>"
      ],
      "text/plain": [
       "                                                link  \\\n",
       "0            https://ciudadseva.com/texto/1833-1883/   \n",
       "1   https://ciudadseva.com/texto/agapito-avellaneda/   \n",
       "2  https://ciudadseva.com/texto/el-jibaro-en-la-c...   \n",
       "3       https://ciudadseva.com/texto/el-pajaro-malo/   \n",
       "4  https://ciudadseva.com/texto/el-sueno-de-mi-co...   \n",
       "5           https://ciudadseva.com/texto/la-gallera/   \n",
       "6   https://ciudadseva.com/texto/la-linterna-magica/   \n",
       "7  https://ciudadseva.com/texto/la-negrita-y-la-v...   \n",
       "8     https://ciudadseva.com/texto/perico-paciencia/   \n",
       "9                 https://ciudadseva.com/texto/alas/   \n",
       "\n",
       "                                       text_metadata  \\\n",
       "0  {'title': '1833-1883', 'metadata': '[Crónica -...   \n",
       "1  {'title': 'Agapito Avellaneda', 'metadata': '[...   \n",
       "2  {'title': 'El jíbaro en la capital', 'metadata...   \n",
       "3  {'title': 'El pájaro malo', 'metadata': '[Cuen...   \n",
       "4  {'title': 'El sueño de mi compadre', 'metadata...   \n",
       "5  {'title': 'La gallera', 'metadata': '[Crónica ...   \n",
       "6  {'title': 'La linterna mágica', 'metadata': '[...   \n",
       "7  {'title': 'La negrita y la vaquita', 'metadata...   \n",
       "8  {'title': 'Perico Paciencia', 'metadata': '[Cu...   \n",
       "9  {'title': 'Alas', 'metadata': '[Minicuento - T...   \n",
       "\n",
       "                                                text                    title  \\\n",
       "0  ¿Perdemos o ganamos? Cuando hago la pregunta y...                1833-1883   \n",
       "1  I Conocí hace mucho tiempo a don Jaime Rocafor...       Agapito Avellaneda   \n",
       "2  Don José de los Reyes Pisafirme es uno de mis ...  El jíbaro en la capital   \n",
       "3  Si el lector ha hecho alguna vez el camino de ...           El pájaro malo   \n",
       "4  Como no podía menos de suceder en la tierra cl...  El sueño de mi compadre   \n",
       "5  Puede pasar un pueblo de la isla de Puerto Ric...               La gallera   \n",
       "6  Una de las cosas que distinguen mi carácter, y...       La linterna mágica   \n",
       "7  Era una mañana de cierto mes y año que corría ...  La negrita y la vaquita   \n",
       "8  Tratábase de celebrar la fiesta del santo patr...         Perico Paciencia   \n",
       "9  Yo ejercía entonces la medicina en Humahuaca. ...                     Alas   \n",
       "\n",
       "                    author  \n",
       "0         Manuel A. Alonso  \n",
       "1         Manuel A. Alonso  \n",
       "2         Manuel A. Alonso  \n",
       "3         Manuel A. Alonso  \n",
       "4         Manuel A. Alonso  \n",
       "5         Manuel A. Alonso  \n",
       "6         Manuel A. Alonso  \n",
       "7         Manuel A. Alonso  \n",
       "8         Manuel A. Alonso  \n",
       "9  Enrique Anderson Imbert  "
      ]
     },
     "execution_count": 35,
     "metadata": {},
     "output_type": "execute_result"
    }
   ],
   "source": [
    "df.head(10)"
   ]
  },
  {
   "cell_type": "code",
   "execution_count": 36,
   "id": "2ce8fea8",
   "metadata": {},
   "outputs": [
    {
     "data": {
      "text/plain": [
       "'https://ciudadseva.com/texto/1833-1883/'"
      ]
     },
     "execution_count": 36,
     "metadata": {},
     "output_type": "execute_result"
    }
   ],
   "source": [
    "df.link[0]"
   ]
  },
  {
   "cell_type": "code",
   "execution_count": 33,
   "id": "b3db91f6",
   "metadata": {},
   "outputs": [
    {
     "data": {
      "text/plain": [
       "'¿Perdemos o ganamos? Cuando hago la pregunta y comparo las dos fechas que encabezan este artículo, acuden a mi mente infinitos recuerdos de hechos que he presenciado en el espacio de cincuenta años y vengo a dar en la sempiterna cuestión que, bajo distinta forma, está planteándose desde tiempo inmemorial y que con relación a Puerto Rico se reduce a averiguar si el progreso realizado entre nosotros nos ha hecho más dichosos, o si con él y por su causa, somos más infelices. Es achaque de viejos, y yo lo soy por mi desgracia, el empeñarse en sostener que en los tiempos de su pasada juventud todo era mejor y más bello. ¿No ha oído el lector más de una vez y entre personas de edad, diálogos parecidos al siguiente? En el toman parte una señora que hoy es abuela, pero en el año cuarenta y dos era una de las señoritas que por su belleza, su juventud y su finura, llamaban más la atención y cautivaban a los elegantes, como entonces se nombraba a los jóvenes en estado de merecer, que ahora llamamos pollos; entre los cuales, como uno de los más apuestos, figuraba su interlocutor el hoy solterón incorregible don Dámaso Arizmendi y Cerrogordo. -Estamos en junio, amigo don Damas. ¿Qué me dice usted de las fiestas de San Juan? -¿Qué he de decir, señora dona Juanita? ¿Acaso las hay ahora? La inauguración de la estatua de Ponce de León, dos bailes y algunas otras simplezas por el estilo, ¿pueden compararse con las fiestas que se celebraban antes? -Es verdad, amigo mío, ¡qué tiempos aquellos! ¿Recuerda usted cuánto nos divertíamos? -Ya lo creo. Recuerdo perfectamente aquel San Juan en que corrió usted acompañada de mi amigo Nicolás (Q.E.E.G.). -¡Pobre Nicolás! Entonces empezaron nuestras relaciones, que fuimos estrechando hasta terminarlas casándonos seis meses después. -Sí señora, y en el mismo año pasamos siete días en Toa Baja bailando sin cesar durante la noche y jugando gallos por el día. ¿Recuerda usted sus riñas con Nicolás? -Porque él era muy celoso. -Y usted muy linda. -Mire usted que han pasado cuarenta años. -Mi corazón es siempre joven. -¿Y su cabeza? -Vamos, Juanita; hablemos de otra cosa… *************** Otras veces es un anciano quien pretende hacer creer a un joven que cuando ello era todo marchaba de un modo admirable. El bienestar, el orden, la armonía y la abundancia reinaban en absoluto: las mujeres eran más hermosas y recatadas; los hombres más honrados y galantes. Nada tiene esto de extraño. Las personas de edad han pensado y pensarán siempre del mismo modo; porque sucede con los recuerdos de la juventud lo mismo que con los buenos cuadros; son mejores y más agradables cuanto mayor es su antigüedad. Por eso se ha dicho con sobrada razón que el hombre se alimenta en la primera mitad de su vida de esperanzas, en la segunda mitad de recuerdos y sería muy cruel, dado que pudiéramos hacerlo, el destruir aquellas en los jóvenes y borrar estos en los viejos. Lo que sí causa sorpresa, y debe ser combatido, es el afán de algunos jóvenes que se hacen defensores del pasado que no conocieron y censores implacables del presente que no han tenido, tiempo ni voluntad de estudiar; y todavía es mucho más censurable el proceder de los que, sin ser jóvenes, observan la misma conducta:, atendiendo, más que a la verdad, a miras de bastardos intereses personales. Para estos quisiera yo tener el poder de impedirles el uso de todo aquello que no teníamos el año treinta y tres. Por ejemplo: si desde la capital quisieran ir a Ponce, les haría pasar, en tiempo de lluvias por el antiguo camino de Caguas, Cayey, Aibonito y Coamo, sin permitirles ir por la carretera que hoy une a la del norte con la del sur de la Isla, menos el espacio que media entre el segundo y el tercero de los pueblos citados y que con toda comodidad puede recorrerse en coche. Si prefieren ir por mar, les obligaría a embarcarse en una pequeña goleta de cabotaje, en vez de hacerlo en uno de los buenos buques de vapor de las siete líneas nacionales o extranjeras que constantemente recorren nuestros puertos. Cuando quisieran apagar la sed que produce el calor de la capital y lo mismo en Mayagüez, Ponce y otros puntos, les diría: nada de bebidas frescas y mucho menos heladas; y les recordaría que en el año treinta y nueve, con motivo de las fiestas que se celebraron por el Convenio de Vergara, recibimos en la marina y acompañamos con música unos bultos que contenían hielo, por primera vez introducido en la Isla, y cuyo uso no se generalizó hasta algún tiempo después. Bien sé que pudiera argüírseme que estos y otros muchos ejemplos que puedo presentar, solo prueban que hemos mejorado en cuanto al bienestar material; pero que en lo moral, en lo intelectual, y en todo lo demás, lejos de ganar, hemos perdido. La abolición de la esclavitud llevada a cabo hace solo diez años, es suficiente para probar que en moralidad hemos ganado y no poco. Aquellos seres desgraciados, que se vendían públicamente en los almacenes de la marina de esta capital y en otros puntos de la Isla, llevaban al seno de las familias la corrupción más degradante. La prostitución, el concubinato y el envilecimiento del trabajo eran los frutos mediatos de aquella iniquidad, que, para honra de España, abolieron las Cortes, con aplauso de todo el mundo civilizado. Mucho de lo que se lee y escribe acerca de las costumbres patriarcales de aquellos tiempos es falso. Entonces hubo piratas que murieron en el cadalso, compañías de ladrones que robaban en cuadrilla, partidas que llevaban el nombre de algunas familias, enemigas irreconciliables entre sí y cuyos individuos no se encontraban con sus contrarios sin que riñeran en grupo o en particular; y al que ponga en duda lo que afirmo le aconsejo que lea las Memorias de don Pedro Tomás de Córdova en lo que se refiere al primer tercio de este siglo o le diré que he asistido como médico, en su última enfermedad a uno de los compañeros del célebre Bibián y a otro de los más terribles partidarios de una banda que cometió todo género de fechorías. ¿Necesitaré esforzarme para probar que hemos ganado también en la parte intelectual? La escuela del pueblo de Caguas donde yo aprendí a escribir estaba dotada, y costó trabajo el conseguirlo, con la pobre suma de cien pesos anuales. En cuanto al arte tipográfico puede formarse una idea por las Memorias del señor Córdova que acabo de citar y por las colecciones de periódicos que existen en la Biblioteca del Ayuntamiento de esta capital y que se publicaron en los años de 1814 y de 1820. Hospitalidad, la había, como la hay ahora; aunque no sean tan numerosas las ocasiones de ejercitarla. Nuestros caminos, todavía hoy en un estado de atraso vergonzoso, son empero, mejores que entonces; se encuentran algunas fondas y esto hace que con menos frecuencia se vea el viajero en la necesidad de pedir posada; frase que significa llegar a la casa de un desconocido y encontrar en ella albergue con mesa, cama, criados y pasto para los caballos, sin más costo que dar las gracias al marcharse. Esto es muy hermoso; pero el país ganará mucho cuando no sea tan frecuente, porque las vías de comunicación lleguen a lo que deben ser en un pueblo culto. Para los que se hacen lenguas ponderando el cariño y veneración que se profesaba a los sacerdotes, escojo, entre otros que pudiera citar, un hecho a propósito para demostrar que de todo había en la viña del Señor. Vivía en cierta población de la Isla un honrado relojero, que al regreso de un viaje, encontró siendo ya de noche, al cura encargado de la parroquia por enfermedad del propietario; como lleva en igual dirección, pusieron sus caballos al mismo paso y comenzaron a hablar tranquilamente; cuando a poco se vio el señor cura rodeado de cuatro hombres a caballo, armados de buenos foetes de los llamados cuatro reales, con los cuales empezaron a azotarlo cruelmente; mas como eran muchos, y por ello se estorbaban, fueron a colocarse a los lados del relojero, empezando con este la obra infame que sus compañeros continuaban con aquel, y ni los unos ni los otros la interrumpieron; por más que los viajeros se pusieron en fuga a todo correr de sus caballerías, hasta que, cerca ya del poblado, los dejaron marchar. Al llegar a las primeras casas se separaron y debió el relojero, cuando iba por las calles que conducían a la suya, repetir si lo sabía, aquellos versos que empiezan así: Vinieron los sarracenos Y nos molieron a palos… Al fin llegó y su mujer, que bajó presurosa a abrir la puerta cuando le oyó llamar, se llenó de susto al ver los gestos que hacía y oír los gemidos que se le escapaban al moverse. -¿Qué tienes? -le dijo-; ¿estás malo? -Sí, mujer; prepara alguna cosa que ponerme en las espaldas que me duelen mucho. -A ver, ¿dónde te duele? -Y al mismo tiempo iba poniendo al descubierto la parte que quería reconocer; mas al lograrlo su cara cambió de expresión, tornándose de compasiva en iracunda. -Lo que tienes en la espalda no es un dolor, sino muchos foetazos. ¿En dónde estabas metido? ¡Estas son cosas de mujeres! -¿Cosas de mujeres? ¡Pues me gusta! ¿Crees tú que las mujeres azotan así? No fueron mujeres, sino cuatro pícaros; digo mal, dos pícaros; porque los otros dos allí se entretuvieron con el señor cura. -Mira, yo no digo que fueron mujeres las que te pegaron; y más valía que en lugar de venir con quejidos y morisquetas donde la tuya te hubieras ido donde la bribona que tiene la culpa. Llegada la discusión a este punto y, como el dolor de las espaldas aumentaba, no tuvo el que lo sentía más remedio que referir el hecho con todos sus detalles, encargando a su cara mitad la mayor reserva. La misma relación y el mismo encargo hizo a cada uno de los amigos que, al día siguiente vinieron a visitarle, de modo que antes de llegar la noche, no quedó en el pueblo vecino ni transeúnte que ignorase el suceso. Todavía viven bastantes personas que lo recuerdan y una de ellas es el autor de estas líneas. En cuanto al gobierno paternal que nos regía, pueden dar razón de su dulzura no pocas familias respetables. Entre estas citaré las de Linares, Machicote, Rivera y Gimbernat. Al condenar aquel régimen no me guía sentimiento alguno que no sea justo y leal. Dádoslos tiempos, dadas las omnímodas facultades de que nuestros antiguos capitanes generales se hallaban revestidos, lo primero que debemos hacer es confesar que usaron de ellas con moderación en la generalidad de los casos, agradecerles los males que dejaron de causar y mucho más los bienes que hicieron. La fiebre, como se dice vulgarmente, no estaba en las sábanas, sino en el enfermo. Lo que había que cambiar no eran las personas, sino el sistema que, con mejor o peor voluntad, tenían estas que poner en práctica. Concluyamos, pues, afirmando que desde 1833 a 1883 hemos ganado mucho en todos conceptos; aunque nos queda mucho más que adelantar; que debemos reconocerlo así, porque es justo y honroso para la Isla y para la nación a que pertenecemos; y que sería un cargo muy grave y vergonzoso a la par que gratuito, el sostener que ni los puertorriqueños, ni los gobiernos de la nación habían sabido hacer otra cosa en cincuenta años que llevar a la Isla por la senda del atraso y de la inmoralidad. Esto no es verdad y por tanto lo negamos. FIN'"
      ]
     },
     "execution_count": 33,
     "metadata": {},
     "output_type": "execute_result"
    }
   ],
   "source": [
    "df.text[0]"
   ]
  },
  {
   "cell_type": "code",
   "execution_count": 37,
   "id": "a2e841c5",
   "metadata": {},
   "outputs": [],
   "source": [
    "# calculamos los features para cada ítem (texto)\n",
    "tfidf_matrix = tf.fit_transform(df['text'])"
   ]
  },
  {
   "cell_type": "code",
   "execution_count": null,
   "id": "ddbbe468",
   "metadata": {},
   "outputs": [
    {
     "data": {
      "text/plain": [
       "(693, 56608)"
      ]
     },
     "execution_count": 39,
     "metadata": {},
     "output_type": "execute_result"
    }
   ],
   "source": [
    "tfidf_matrix.shape"
   ]
  },
  {
   "cell_type": "code",
   "execution_count": 44,
   "id": "239dd72e",
   "metadata": {},
   "outputs": [
    {
     "name": "stdout",
     "output_type": "stream",
     "text": [
      "[('Jorge Luis Borges - La escritura del dios', np.float64(0.144)),\n",
      " ('Jorge Luis Borges - El inmortal', np.float64(0.135)),\n",
      " ('Jorge Luis Borges - Utopía de un hombre que está cansado',\n",
      "  np.float64(0.125)),\n",
      " ('Felisberto Hernández - El acomodador', np.float64(0.122)),\n",
      " ('Clarice Lispector - La búsqueda de la dignidad', np.float64(0.121))]\n"
     ]
    }
   ],
   "source": [
    "# calculamos las similitudes entre todos los documentos\n",
    "cosine_similarities = linear_kernel(tfidf_matrix, tfidf_matrix)\n",
    "n = 5\n",
    "\n",
    "# diccionario creado para guardar el resultado en un formato (autor - titulo : puntaje, titulo, autor)\n",
    "results = {} \n",
    "for idx, row in df.iterrows():\n",
    "    # guardamos los indices similares basados en la similitud coseno. Los ordenamos en modo ascendente, siendo 0 nada de similitud y 1 total\n",
    "    similar_indices = cosine_similarities[idx].argsort()[:-n-2:-1] \n",
    "    # guardamos los N más cercanos\n",
    "    similar_items = [(f\"{df['author'][i]} - {df['title'][i]}\", round(cosine_similarities[idx][i], 3)) for i in similar_indices]\n",
    "    results[f\"{row['author']} - {row['title']}\"] = similar_items[1:]\n",
    "\n",
    "pprint(results['Jorge Luis Borges - El Aleph'])"
   ]
  },
  {
   "cell_type": "code",
   "execution_count": 46,
   "id": "485894bd",
   "metadata": {},
   "outputs": [
    {
     "name": "stdout",
     "output_type": "stream",
     "text": [
      "[[1.         0.1356551  0.18289908 ... 0.04264883 0.06566028 0.04142552]\n",
      " [0.1356551  1.         0.12338913 ... 0.01741429 0.05272282 0.05311949]\n",
      " [0.18289908 0.12338913 1.         ... 0.02101686 0.06740569 0.05580139]\n",
      " ...\n",
      " [0.04264883 0.01741429 0.02101686 ... 1.         0.04634811 0.01893521]\n",
      " [0.06566028 0.05272282 0.06740569 ... 0.04634811 1.         0.03305628]\n",
      " [0.04142552 0.05311949 0.05580139 ... 0.01893521 0.03305628 1.        ]]\n"
     ]
    }
   ],
   "source": [
    "print(cosine_similarities)"
   ]
  },
  {
   "cell_type": "code",
   "execution_count": null,
   "id": "57cc9b9b",
   "metadata": {},
   "outputs": [],
   "source": []
  }
 ],
 "metadata": {
  "kernelspec": {
   "display_name": "deep_learning",
   "language": "python",
   "name": "python3"
  },
  "language_info": {
   "codemirror_mode": {
    "name": "ipython",
    "version": 3
   },
   "file_extension": ".py",
   "mimetype": "text/x-python",
   "name": "python",
   "nbconvert_exporter": "python",
   "pygments_lexer": "ipython3",
   "version": "3.12.8"
  }
 },
 "nbformat": 4,
 "nbformat_minor": 5
}
